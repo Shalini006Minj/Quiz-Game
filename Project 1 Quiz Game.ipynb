{
 "cells": [
  {
   "cell_type": "code",
   "execution_count": null,
   "id": "75b361eb",
   "metadata": {},
   "outputs": [],
   "source": [
    "n = input(\"Enter your name: \");"
   ]
  },
  {
   "cell_type": "code",
   "execution_count": null,
   "id": "262155ec",
   "metadata": {},
   "outputs": [],
   "source": [
    "print(\"welcome\", n);"
   ]
  },
  {
   "cell_type": "code",
   "execution_count": null,
   "id": "4c735e62",
   "metadata": {},
   "outputs": [],
   "source": [
    "playing = input(\"do you want to play a quiz game?: \")\n",
    "if playing.lower() == \"yes\" :\n",
    "    print(\"cool lets begin the game\")\n",
    "else:\n",
    "    print(\"bye we will meet again next time\")"
   ]
  },
  {
   "cell_type": "code",
   "execution_count": null,
   "id": "b065b329",
   "metadata": {},
   "outputs": [],
   "source": [
    "score = 0"
   ]
  },
  {
   "cell_type": "code",
   "execution_count": null,
   "id": "4a31aec7",
   "metadata": {},
   "outputs": [],
   "source": [
    "answer = input(\"What is the capital city of France?: \")\n",
    "if answer.lower() == \"paris\":\n",
    "    print(\"Correct\")\n",
    "    score += 1\n",
    "else:\n",
    "    print(\"Incorrect\")"
   ]
  },
  {
   "cell_type": "code",
   "execution_count": null,
   "id": "e1087391",
   "metadata": {},
   "outputs": [],
   "source": [
    "answer = input(\"How many continents are there in the world?: \")\n",
    "if answer.lower() == \"seven\":\n",
    "    print(\"Correct\")\n",
    "    score += 1\n",
    "else:\n",
    "    print(\"Incorrect\")"
   ]
  },
  {
   "cell_type": "code",
   "execution_count": null,
   "id": "1c6aa731",
   "metadata": {},
   "outputs": [],
   "source": [
    "answer = input(\"What is the chemical symbol for water?: \")\n",
    "if answer.lower() == \"h2o\":\n",
    "    print(\"Correct\")\n",
    "    score += 1\n",
    "else:\n",
    "    print(\"Incorrect\")"
   ]
  },
  {
   "cell_type": "code",
   "execution_count": null,
   "id": "8f2e763b",
   "metadata": {},
   "outputs": [],
   "source": [
    "answer = input(\"Who wrote the play Romeo and Juliet?: \")\n",
    "if answer.lower() == \"william shakespeare\":\n",
    "    print(\"Correct\")\n",
    "    score += 1\n",
    "else:\n",
    "    print(\"Incorrect\")"
   ]
  },
  {
   "cell_type": "code",
   "execution_count": null,
   "id": "f2fab383",
   "metadata": {},
   "outputs": [],
   "source": [
    "answer = input(\"What is the capital city of Japan?: \")\n",
    "if answer.lower() == \"tokyo\":\n",
    "    print(\"Correct\")\n",
    "    score += 1\n",
    "else:\n",
    "    print(\"Incorrect\")"
   ]
  },
  {
   "cell_type": "code",
   "execution_count": null,
   "id": "7fdec0a1",
   "metadata": {},
   "outputs": [],
   "source": [
    "answer = input(\"What is the tallest mammal on Earth?: \")\n",
    "if answer.lower() == \"giraffe\":\n",
    "    print(\"Correct\")\n",
    "    score += 1\n",
    "else:\n",
    "    print(\"Incorrect\")"
   ]
  },
  {
   "cell_type": "code",
   "execution_count": null,
   "id": "9c443778",
   "metadata": {},
   "outputs": [],
   "source": [
    "print(\"You got \" + str(score) + \" questions correct!\")"
   ]
  },
  {
   "cell_type": "code",
   "execution_count": null,
   "id": "205de917",
   "metadata": {},
   "outputs": [],
   "source": [
    "print(\"You got \" + str(round((score / 6) * 100)) + \"%\" )"
   ]
  }
 ],
 "metadata": {
  "kernelspec": {
   "display_name": "Python 3 (ipykernel)",
   "language": "python",
   "name": "python3"
  },
  "language_info": {
   "codemirror_mode": {
    "name": "ipython",
    "version": 3
   },
   "file_extension": ".py",
   "mimetype": "text/x-python",
   "name": "python",
   "nbconvert_exporter": "python",
   "pygments_lexer": "ipython3",
   "version": "3.11.5"
  }
 },
 "nbformat": 4,
 "nbformat_minor": 5
}
